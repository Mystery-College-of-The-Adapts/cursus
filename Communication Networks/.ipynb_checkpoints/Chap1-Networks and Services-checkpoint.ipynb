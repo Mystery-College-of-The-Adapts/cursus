{
 "cells": [
  {
   "cell_type": "markdown",
   "metadata": {},
   "source": [
    "# 1.1 Networks and Services\n",
    "A **Communication network** is a set of equipment and facilities that provides a service- the transfer of information between users located at various geographical points.\n",
    "\n",
    "Examples of services:\n",
    "- Radio and television broadcasting\n",
    "- Telephone service\n",
    "- Cellular telephone service\n",
    "- Electronic mail\n",
    "- Video on demand\n",
    "_________________________________________\n",
    "\n",
    "Note:\n",
    "#### What is a protocol?\n",
    "A **protocol** is a set of rules that governs how two communicating parties are to interact.\n",
    "\n",
    "#### What is the purpose of the protocol?\n",
    "- Provide some type of service. \n",
    " - **HTTP** enables the retrieval of web pages.\n",
    " - **FTP**(File Transfer Protocol) for the transfer of files\n",
    " - **SMTP**(Simple Mail Transfer Protocol) for e-mail\n",
    " - **IP**(Internet Protocol) for the transfer of packets \n",
    " - **DNS**(Domain Name System) for IP address lookup\n",
    " \n",
    "______________________________________________________\n",
    "\n",
    "# 1.2 Approaches to Network Design\n",
    "The task of the designer is to develop an overall network design that meets the requirements of the users in a cost-effective manner.\n",
    "\n",
    "## 1.2.1 Network Functions and Network Topology \n",
    "- The essential function of a network is to transfer information between a source and a destination.\n",
    "- The source and destination typically comprise **terminal** equipment that attaches to the network.\n",
    "___________________________\n",
    "\n",
    "- A **Network Switch** serves as a controller, enabling networked devices to talk to each other efficiently.\n",
    "- **Routing** is the process of selecting a path for traffic in a network, or between or across multiple **networks**.\n",
    "- **Basic user Service** is the primary service or services that the network provides to its users.\n",
    "- **Addressing**- the means for identifying points of connection to the network\n",
    "- **Multiplexing**-the means for connecting multiple information flows into shared connection lines.\n",
    "\n",
    "## 1.2.2 Message, Packet, and Circuit Switching"
   ]
  }
 ],
 "metadata": {
  "anaconda-cloud": {},
  "kernelspec": {
   "display_name": "Python [conda root]",
   "language": "python",
   "name": "conda-root-py"
  },
  "language_info": {
   "codemirror_mode": {
    "name": "ipython",
    "version": 2
   },
   "file_extension": ".py",
   "mimetype": "text/x-python",
   "name": "python",
   "nbconvert_exporter": "python",
   "pygments_lexer": "ipython2",
   "version": "2.7.12"
  }
 },
 "nbformat": 4,
 "nbformat_minor": 1
}
