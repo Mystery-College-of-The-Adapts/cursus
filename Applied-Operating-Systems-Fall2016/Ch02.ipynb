{
 "cells": [
  {
   "cell_type": "markdown",
   "metadata": {},
   "source": [
    "# Operating-System Structures"
   ]
  },
  {
   "cell_type": "markdown",
   "metadata": {},
   "source": [
    "## 2.1 OS Services"
   ]
  },
  {
   "cell_type": "markdown",
   "metadata": {},
   "source": [
    "One set of OS services provides functions that are helpful to the user."
   ]
  },
  {
   "cell_type": "markdown",
   "metadata": {},
   "source": [
    "### - User interface:\n",
    "Almost all operating systems have a user interface (UI). This interface can take several forms. One is Command-line interface (CLI), which uses text commands and a method for entering them. Another is batch interface, in which commands and directives to control those commands are entered into files, and those files are executed. Most Commonly, a Graphical user interface (GUI) is used."
   ]
  },
  {
   "cell_type": "markdown",
   "metadata": {},
   "source": [
    "### - Program execution:\n",
    "The system must be able to load a program into memory and to run that program. The program must be able to end its execution, either normally or abnormally (indicating error)."
   ]
  },
  {
   "cell_type": "markdown",
   "metadata": {},
   "source": [
    "### - I/O operations:\n",
    "A running program may require I/O which may involve a file or an I/O device. For specific devices, special functions may be desired (Such as CD, DVD, etc..). For efficiency and protection, users usually cannot control I/O devices directly, Therefore, the OS must provide a means to do I/O.\n"
   ]
  },
  {
   "cell_type": "markdown",
   "metadata": {},
   "source": [
    "### - File-system manipulation:\n",
    "The file system is of particular interest. Obviously, programs need to read and write files and directories. They also need to create and delete them by name, search for a given file, etc.. Finally, some programs include permissions management to allow or deny access to files/directories based on ownership.\n",
    "Many OS provide a variety of file sytems."
   ]
  },
  {
   "cell_type": "markdown",
   "metadata": {},
   "source": [
    "### - Communications:\n",
    "Processes need to exchange information with other processes. Such communication may occur between processes that are executing on the same computer or between processes that are executing on different computer systems tied together by a computer network. \n",
    "Communications may be implemented via:\n",
    "* Shared memory\n",
    "* Message Passing\n",
    "\n",
    "in which packets of info are moved between processes by the OS."
   ]
  },
  {
   "cell_type": "markdown",
   "metadata": {},
   "source": [
    "### - Error detection:\n",
    "The OS needs to be constantly aware of possible errors.Errors may occur in the CPU, and memory hardware, etc.. For each type of error, the OS should take the appropriate action to ensure correct and consistent computing."
   ]
  },
  {
   "cell_type": "markdown",
   "metadata": {},
   "source": [
    "Another set of OS functions exists not for helping the user but rather for ensuring the efficiency operation of the system itself. Systems with multiple users can gain efficiency by:\n",
    "\n",
    "### - Resource allocation:\n",
    "### - Accounting\n",
    "### - Protection and Security"
   ]
  },
  {
   "cell_type": "code",
   "execution_count": null,
   "metadata": {
    "collapsed": true
   },
   "outputs": [],
   "source": []
  }
 ],
 "metadata": {
  "kernelspec": {
   "display_name": "Python [Root]",
   "language": "python",
   "name": "Python [Root]"
  },
  "language_info": {
   "codemirror_mode": {
    "name": "ipython",
    "version": 2
   },
   "file_extension": ".py",
   "mimetype": "text/x-python",
   "name": "python",
   "nbconvert_exporter": "python",
   "pygments_lexer": "ipython2",
   "version": "2.7.12"
  }
 },
 "nbformat": 4,
 "nbformat_minor": 0
}
