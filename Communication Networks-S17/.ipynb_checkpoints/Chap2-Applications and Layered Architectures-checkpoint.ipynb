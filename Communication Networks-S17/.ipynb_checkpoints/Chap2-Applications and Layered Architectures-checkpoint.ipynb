{
 "cells": [
  {
   "cell_type": "markdown",
   "metadata": {},
   "source": [
    "Communication functions can be grouped according to the following tasks:\n",
    "- The transport across a network of data from a process in one machine to the process at another machine.\n",
    "- The routing and forwarding of packets across multiple hops in a network.\n",
    "- The transfer of a frame of data from one physical interface to another.\n",
    "These layers of functions build on top of each other to enable communications. We use term **network architecture** to refer to a set of protocols that specify how every layer is to function.\n",
    "\n",
    "# 2.1 Examples of Protocols, Services, and Layering\n",
    "\n",
    "- A **protocol** is a set of rules that governs how two or more communicating parties are to interact.\n",
    " - HTTP protocol enables the retrieval of web pages.\n",
    " - TCP protocol enables the reliable transfer of streams of information between computers\n",
    " \n",
    " ________________________________________________________\n",
    " \n",
    " ## 2.1.1 HTTP, DNS, and SMTP\n",
    " - All these examples involve a **client/server** application.\n",
    " - A server process in a computer waits for incoming requests by listening to a **port**.\n",
    "  - A **port** is an address that identifies which process is to receive a message that is delivered to a given machine.\n",
    "  - Widely used applications have **well-known port numbers** assigned to their servers, so that client processes in other computers can readily make *requests* as required.\n",
    "  - The servers provide **responses** to those requests.\n",
    "  - The server software usually runs in the background and is referred to as a **daemon**\n",
    "  \n",
    "  #### 1. Retrieving a document from the web: HTTP message exchange\n",
    "  \n",
    "  ![](assets/httpmessage.JPG)\n",
    " \n",
    " - Each HTTP process inserts its messages into a buffer\n",
    " - TCP transmits the contents of the buffer to the other TCP in blocks of information called segments.\n",
    " - Each segment contains port number information in addition to the HTTP message information \n",
    " - **HTTP is said to use the service provided by TCP in the layer below.**\n",
    " ![](assets/pipe.JPG)\n",
    " - Note: The transfer of messages between HTTP client and server is *virtual* and occurs *indirectly* via the TCP connection\n",
    " \n",
    " \n",
    " #### 2. DNS query and response\n",
    " ![](assets/dnsresponse.JPG)\n",
    " - After receiving the address request, a process in the host, called the resolver, composes the short message shown in step 2.\n",
    " - The Opcode value in the DNS message header indicates that the message is a standard query.\n",
    " - The question portion of the query contains the following information:\n",
    "  - QNAME identifies the domain name that is to be translated.\n",
    "  - The DNS server can handle a variety of queries, and the type is specified by QTYPE.\n",
    "  - QCLASS requets an internet address\n",
    " - In step 3 the resolver sends the message to the local server using the datagram communication service provided by UDP.\n",
    " - The short message returned by the server in step 4 has the Response and Authoritative Answer bits set in the header."
   ]
  }
 ],
 "metadata": {
  "anaconda-cloud": {},
  "kernelspec": {
   "display_name": "Python [conda root]",
   "language": "python",
   "name": "conda-root-py"
  },
  "language_info": {
   "codemirror_mode": {
    "name": "ipython",
    "version": 2
   },
   "file_extension": ".py",
   "mimetype": "text/x-python",
   "name": "python",
   "nbconvert_exporter": "python",
   "pygments_lexer": "ipython2",
   "version": "2.7.12"
  }
 },
 "nbformat": 4,
 "nbformat_minor": 1
}
