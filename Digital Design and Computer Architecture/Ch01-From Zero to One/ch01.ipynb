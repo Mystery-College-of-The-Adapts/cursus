{
 "cells": [
  {
   "cell_type": "markdown",
   "metadata": {},
   "source": [
    "The Three-Y's\n",
    "==================\n",
    "\n",
    "In  addition to abstraction and discipline, designers use the three \"-y's\" to manage complexity:\n",
    "* **Hierarchy**: involves dividing a system into modules, then further subdividing each of these modules until the pieces are easy to understand.\n",
    "* **Modularity**: states that the modules have well-defined functions and interfaces, so that they connect together easily without unanticipated side effects.\n",
    "* **Regularity**: seeks uniformity among the modules. Common modules are reused many times, reducing the number of distinct modules that must be designed"
   ]
  }
 ],
 "metadata": {
  "kernelspec": {
   "display_name": "Python [Root]",
   "language": "python",
   "name": "Python [Root]"
  },
  "language_info": {
   "codemirror_mode": {
    "name": "ipython",
    "version": 2
   },
   "file_extension": ".py",
   "mimetype": "text/x-python",
   "name": "python",
   "nbconvert_exporter": "python",
   "pygments_lexer": "ipython2",
   "version": "2.7.12"
  }
 },
 "nbformat": 4,
 "nbformat_minor": 0
}
